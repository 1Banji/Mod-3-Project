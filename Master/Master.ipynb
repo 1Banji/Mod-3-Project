{
 "cells": [
  {
   "cell_type": "code",
   "execution_count": 4,
   "metadata": {},
   "outputs": [],
   "source": [
    "import pandas as pd\n",
    "import numpy as np\n",
    "import matplotlib.pyplot as plt\n",
    "import seaborn as sns\n",
    "from scipy import stats\n",
    "import utils\n",
    "\n",
    "%load_ext autoreload\n",
    "%autoreload 2\n",
    "%matplotlib inline"
   ]
  },
  {
   "cell_type": "markdown",
   "metadata": {},
   "source": [
    "### EDA\n",
    "We download different datasets from different csv files to compare with Social Spending of GDP"
   ]
  },
  {
   "cell_type": "code",
   "execution_count": 5,
   "metadata": {},
   "outputs": [],
   "source": [
    "drugs = pd.read_csv('../dataset/Bdata.csv')\n",
    "gdp = pd.read_csv('../dataset/social-spending-oecd-longrun.csv')\n",
    "alco = pd.read_csv('../dataset/rate-of-premature-deaths-due-to-alcohol.csv')\n",
    "ineq = pd.read_csv('../dataset/inequality-before-and-after-taxes-and-transfers-Thewissen-et-al-data.csv')"
   ]
  },
  {
   "cell_type": "code",
   "execution_count": 36,
   "metadata": {},
   "outputs": [
    {
     "name": "stdout",
     "output_type": "stream",
     "text": [
      "the average of percentage spend by countries is 19.21329161654386, the shape of the dataframe is (171, 7)\n",
      "The data starts from 1978 and ends in year 2013\n"
     ]
    },
    {
     "data": {
      "text/html": [
       "<div>\n",
       "<style scoped>\n",
       "    .dataframe tbody tr th:only-of-type {\n",
       "        vertical-align: middle;\n",
       "    }\n",
       "\n",
       "    .dataframe tbody tr th {\n",
       "        vertical-align: top;\n",
       "    }\n",
       "\n",
       "    .dataframe thead th {\n",
       "        text-align: right;\n",
       "    }\n",
       "</style>\n",
       "<table border=\"1\" class=\"dataframe\">\n",
       "  <thead>\n",
       "    <tr style=\"text-align: right;\">\n",
       "      <th></th>\n",
       "      <th>Entity</th>\n",
       "      <th>Year</th>\n",
       "      <th>Market Income</th>\n",
       "      <th>Disposable_Income</th>\n",
       "      <th>RoundYear</th>\n",
       "      <th>Percent_GDP</th>\n",
       "      <th>MoreThanMean</th>\n",
       "    </tr>\n",
       "  </thead>\n",
       "  <tbody>\n",
       "    <tr>\n",
       "      <th>0</th>\n",
       "      <td>Australia</td>\n",
       "      <td>1981</td>\n",
       "      <td>0.405</td>\n",
       "      <td>0.282</td>\n",
       "      <td>1981.0</td>\n",
       "      <td>10.637890</td>\n",
       "      <td>0</td>\n",
       "    </tr>\n",
       "    <tr>\n",
       "      <th>1</th>\n",
       "      <td>Australia</td>\n",
       "      <td>1985</td>\n",
       "      <td>0.440</td>\n",
       "      <td>0.293</td>\n",
       "      <td>1985.0</td>\n",
       "      <td>10.296414</td>\n",
       "      <td>0</td>\n",
       "    </tr>\n",
       "    <tr>\n",
       "      <th>2</th>\n",
       "      <td>Australia</td>\n",
       "      <td>1989</td>\n",
       "      <td>0.440</td>\n",
       "      <td>0.304</td>\n",
       "      <td>1989.0</td>\n",
       "      <td>10.268000</td>\n",
       "      <td>0</td>\n",
       "    </tr>\n",
       "    <tr>\n",
       "      <th>3</th>\n",
       "      <td>Australia</td>\n",
       "      <td>1995</td>\n",
       "      <td>0.483</td>\n",
       "      <td>0.311</td>\n",
       "      <td>1995.0</td>\n",
       "      <td>12.088000</td>\n",
       "      <td>0</td>\n",
       "    </tr>\n",
       "    <tr>\n",
       "      <th>4</th>\n",
       "      <td>Australia</td>\n",
       "      <td>2001</td>\n",
       "      <td>0.498</td>\n",
       "      <td>0.320</td>\n",
       "      <td>2001.0</td>\n",
       "      <td>13.131000</td>\n",
       "      <td>0</td>\n",
       "    </tr>\n",
       "  </tbody>\n",
       "</table>\n",
       "</div>"
      ],
      "text/plain": [
       "      Entity  Year  Market Income  Disposable_Income  RoundYear  Percent_GDP  \\\n",
       "0  Australia  1981          0.405              0.282     1981.0    10.637890   \n",
       "1  Australia  1985          0.440              0.293     1985.0    10.296414   \n",
       "2  Australia  1989          0.440              0.304     1989.0    10.268000   \n",
       "3  Australia  1995          0.483              0.311     1995.0    12.088000   \n",
       "4  Australia  2001          0.498              0.320     2001.0    13.131000   \n",
       "\n",
       "   MoreThanMean  \n",
       "0             0  \n",
       "1             0  \n",
       "2             0  \n",
       "3             0  \n",
       "4             0  "
      ]
     },
     "execution_count": 36,
     "metadata": {},
     "output_type": "execute_result"
    }
   ],
   "source": [
    "# Merge two dataframe on years it matches and country name\n",
    "# take years after 1977 which is the years where inequality dataset starts\n",
    "gdp = gdp[gdp.Year >1977]\n",
    "# Create new data set where we match the year of gdp to inequality of years\n",
    "new = utils.nearestYear(gdp,ineq)\n",
    "# Drop null values\n",
    "new.dropna(inplace=True)\n",
    "hone = pd.merge(ineq[['Entity','Year','Market Income','Disposable Income']], \n",
    "              new[['Entity','RoundYear','Social Expenditure %GDP - (OWID extrapolated series) (%)']],  \n",
    "              how='inner', left_on=['Entity','Year'], right_on = ['Entity','RoundYear'])\n",
    "# Rename Social Expediture percentage column\n",
    "hone.rename(columns={'Social Expenditure %GDP - (OWID extrapolated series) (%)': 'Percent_GDP','Disposable Income':'Disposable_Income'},inplace=True)\n",
    "# Delete row with  string '..' Convert object type to float\n",
    "hone = hone[hone.Percent_GDP != '..']\n",
    "hone.Percent_GDP = hone.Percent_GDP.astype(float)\n",
    "hone = hone[hone.Percent_GDP != 0]\n",
    "hone.dropna(inplace = True)\n",
    "mean = hone.Percent_GDP.mean()\n",
    "print('the average of percentage spend by countries is {}, the shape of the dataframe is {}'.format(mean,df.shape))\n",
    "# Countries who spend more of their shares than mean percenteage percent\n",
    "hone['MoreThanMean'] = hone.Percent_GDP.apply(lambda x: 0 if x < mean else 1)\n",
    "# Gini index indicates if it is higher than there is higher inequality\n",
    "print('The data starts from {} and ends in year {}'.format(hone.Year.min(),hone.Year.max()))\n",
    "hone.head()"
   ]
  },
  {
   "cell_type": "code",
   "execution_count": 6,
   "metadata": {},
   "outputs": [
    {
     "data": {
      "text/html": [
       "<div>\n",
       "<style scoped>\n",
       "    .dataframe tbody tr th:only-of-type {\n",
       "        vertical-align: middle;\n",
       "    }\n",
       "\n",
       "    .dataframe tbody tr th {\n",
       "        vertical-align: top;\n",
       "    }\n",
       "\n",
       "    .dataframe thead th {\n",
       "        text-align: right;\n",
       "    }\n",
       "</style>\n",
       "<table border=\"1\" class=\"dataframe\">\n",
       "  <thead>\n",
       "    <tr style=\"text-align: right;\">\n",
       "      <th></th>\n",
       "      <th>Entity</th>\n",
       "      <th>Year</th>\n",
       "      <th>Total government spending percapita (per capita USD PPP)</th>\n",
       "      <th>Deaths</th>\n",
       "      <th>Over</th>\n",
       "    </tr>\n",
       "  </thead>\n",
       "  <tbody>\n",
       "    <tr>\n",
       "      <td>0</td>\n",
       "      <td>Australia</td>\n",
       "      <td>2009</td>\n",
       "      <td>15670.840</td>\n",
       "      <td>1416.522917</td>\n",
       "      <td>False</td>\n",
       "    </tr>\n",
       "    <tr>\n",
       "      <td>1</td>\n",
       "      <td>Australia</td>\n",
       "      <td>2010</td>\n",
       "      <td>15484.240</td>\n",
       "      <td>1439.252130</td>\n",
       "      <td>False</td>\n",
       "    </tr>\n",
       "    <tr>\n",
       "      <td>2</td>\n",
       "      <td>Australia</td>\n",
       "      <td>2011</td>\n",
       "      <td>16146.340</td>\n",
       "      <td>1454.194877</td>\n",
       "      <td>True</td>\n",
       "    </tr>\n",
       "    <tr>\n",
       "      <td>3</td>\n",
       "      <td>Australia</td>\n",
       "      <td>2012</td>\n",
       "      <td>15628.890</td>\n",
       "      <td>1449.744176</td>\n",
       "      <td>False</td>\n",
       "    </tr>\n",
       "    <tr>\n",
       "      <td>4</td>\n",
       "      <td>Australia</td>\n",
       "      <td>2013</td>\n",
       "      <td>17186.980</td>\n",
       "      <td>1503.284879</td>\n",
       "      <td>True</td>\n",
       "    </tr>\n",
       "    <tr>\n",
       "      <td>...</td>\n",
       "      <td>...</td>\n",
       "      <td>...</td>\n",
       "      <td>...</td>\n",
       "      <td>...</td>\n",
       "      <td>...</td>\n",
       "    </tr>\n",
       "    <tr>\n",
       "      <td>298</td>\n",
       "      <td>United States</td>\n",
       "      <td>2011</td>\n",
       "      <td>20796.711</td>\n",
       "      <td>47700.832587</td>\n",
       "      <td>True</td>\n",
       "    </tr>\n",
       "    <tr>\n",
       "      <td>299</td>\n",
       "      <td>United States</td>\n",
       "      <td>2012</td>\n",
       "      <td>20560.391</td>\n",
       "      <td>51472.014917</td>\n",
       "      <td>True</td>\n",
       "    </tr>\n",
       "    <tr>\n",
       "      <td>300</td>\n",
       "      <td>United States</td>\n",
       "      <td>2013</td>\n",
       "      <td>20410.400</td>\n",
       "      <td>56252.462040</td>\n",
       "      <td>True</td>\n",
       "    </tr>\n",
       "    <tr>\n",
       "      <td>301</td>\n",
       "      <td>United States</td>\n",
       "      <td>2014</td>\n",
       "      <td>20741.029</td>\n",
       "      <td>62145.948617</td>\n",
       "      <td>True</td>\n",
       "    </tr>\n",
       "    <tr>\n",
       "      <td>302</td>\n",
       "      <td>United States</td>\n",
       "      <td>2015</td>\n",
       "      <td>21157.320</td>\n",
       "      <td>69477.933649</td>\n",
       "      <td>True</td>\n",
       "    </tr>\n",
       "  </tbody>\n",
       "</table>\n",
       "<p>303 rows × 5 columns</p>\n",
       "</div>"
      ],
      "text/plain": [
       "            Entity  Year  \\\n",
       "0        Australia  2009   \n",
       "1        Australia  2010   \n",
       "2        Australia  2011   \n",
       "3        Australia  2012   \n",
       "4        Australia  2013   \n",
       "..             ...   ...   \n",
       "298  United States  2011   \n",
       "299  United States  2012   \n",
       "300  United States  2013   \n",
       "301  United States  2014   \n",
       "302  United States  2015   \n",
       "\n",
       "     Total government spending percapita (per capita USD PPP)        Deaths  \\\n",
       "0                                            15670.840          1416.522917   \n",
       "1                                            15484.240          1439.252130   \n",
       "2                                            16146.340          1454.194877   \n",
       "3                                            15628.890          1449.744176   \n",
       "4                                            17186.980          1503.284879   \n",
       "..                                                 ...                  ...   \n",
       "298                                          20796.711         47700.832587   \n",
       "299                                          20560.391         51472.014917   \n",
       "300                                          20410.400         56252.462040   \n",
       "301                                          20741.029         62145.948617   \n",
       "302                                          21157.320         69477.933649   \n",
       "\n",
       "      Over  \n",
       "0    False  \n",
       "1    False  \n",
       "2     True  \n",
       "3    False  \n",
       "4     True  \n",
       "..     ...  \n",
       "298   True  \n",
       "299   True  \n",
       "300   True  \n",
       "301   True  \n",
       "302   True  \n",
       "\n",
       "[303 rows x 5 columns]"
      ]
     },
     "execution_count": 6,
     "metadata": {},
     "output_type": "execute_result"
    }
   ],
   "source": [
    "# i did all my clean \n",
    "drugs"
   ]
  },
  {
   "cell_type": "markdown",
   "metadata": {},
   "source": [
    "### Hypothesis 1\n",
    "\n",
    "- H0 = Government spending on its citizens does not have a effect on income equality?\n",
    "- HA = Govenrment spending on its citizens decreases the income equality?"
   ]
  },
  {
   "cell_type": "markdown",
   "metadata": {},
   "source": [
    "We have to check if our disposable income values are normally distributed so we run a QQ plot to see if it is normally distributed"
   ]
  },
  {
   "cell_type": "code",
   "execution_count": 37,
   "metadata": {},
   "outputs": [
    {
     "data": {
      "text/plain": [
       "Text(0.5, 1.0, 'Disposable Income Q-Q Plot')"
      ]
     },
     "execution_count": 37,
     "metadata": {},
     "output_type": "execute_result"
    },
    {
     "data": {
      "image/png": "[encoded data removed]",
      "text/plain": [
       "<Figure size 432x288 with 1 Axes>"
      ]
     },
     "metadata": {
      "needs_background": "light"
     },
     "output_type": "display_data"
    }
   ],
   "source": [
    "stats.probplot(hone['Disposable_Income'], plot= plt)\n",
    "plt.title('Disposable Income Q-Q Plot')"
   ]
  },
  {
   "cell_type": "markdown",
   "metadata": {},
   "source": [
    "After looking at Q-Q plot we can say that out distribution is normal enough. We are going to seperate the population in to two sample according to their spending of their GDP on its citizens. After that we are going to visualize two Datasets and see if there is a difference visible to the eye."
   ]
  },
  {
   "cell_type": "code",
   "execution_count": 39,
   "metadata": {},
   "outputs": [],
   "source": [
    "# Seperate the dataset to two different group with their characteristic\n",
    "more_df = hone[hone.MoreThanMean == 1]\n",
    "less_df = hone[hone.MoreThanMean == 0]"
   ]
  },
  {
   "cell_type": "code",
   "execution_count": 40,
   "metadata": {},
   "outputs": [
    {
     "name": "stderr",
     "output_type": "stream",
     "text": [
      "/Users/kaanbursa/opt/anaconda3/envs/learn-env/lib/python3.6/site-packages/scipy/stats/stats.py:1713: FutureWarning: Using a non-tuple sequence for multidimensional indexing is deprecated; use `arr[tuple(seq)]` instead of `arr[seq]`. In the future this will be interpreted as an array index, `arr[np.array(seq)]`, which will result either in an error or a different result.\n",
      "  return np.add.reduce(sorted[indexer] * weights, axis=axis) / sumval\n"
     ]
    },
    {
     "data": {
      "text/plain": [
       "<matplotlib.legend.Legend at 0x1a1e85c4a8>"
      ]
     },
     "execution_count": 40,
     "metadata": {},
     "output_type": "execute_result"
    },
    {
     "data": {
      "image/png": "[encoded data removed]",
      "text/plain": [
       "<Figure size 720x576 with 1 Axes>"
      ]
     },
     "metadata": {
      "needs_background": "light"
     },
     "output_type": "display_data"
    }
   ],
   "source": [
    "plt.figure(figsize=(10,8))\n",
    "sns.distplot(more_df['Disposable_Income'],label='Countries who spend more than %20 of their GDP ')\n",
    "sns.distplot(less_df['Disposable_Income'],label='Countries who spend less than %20 of their GDP')\n",
    "plt.legend()"
   ]
  },
  {
   "cell_type": "markdown",
   "metadata": {},
   "source": [
    "#### Statistical Analysis of Q1"
   ]
  },
  {
   "cell_type": "code",
   "execution_count": 41,
   "metadata": {},
   "outputs": [],
   "source": [
    "from statsmodels.stats.power import TTestIndPower"
   ]
  },
  {
   "cell_type": "code",
   "execution_count": 42,
   "metadata": {},
   "outputs": [
    {
     "name": "stdout",
     "output_type": "stream",
     "text": [
      "Cohens distance for the populations is 0.0247 which is the effect size. Sample size is 88\n",
      "and our significane level is (alpha) 0.05 and our statistical power is 0.05303715252335816 \n",
      "      \n"
     ]
    }
   ],
   "source": [
    "# our alpha is 5%\n",
    "alpha = 0.05\n",
    "# Cohen's Distans is the difference between two population means which measures the effect size in T-test\n",
    "cohend = abs(more_df['Disposable_Income'].mean() - less_df['Disposable_Income'].mean())\n",
    "analysis = TTestIndPower()\n",
    "power = analysis.solve_power(cohend, power=None, nobs1=len(more_df), ratio=1.0, alpha=alpha)\n",
    "print(\"\"\"Cohens distance for the populations is {} which is the effect size. Sample size is {}\n",
    "and our significane level is (alpha) {} and our statistical power is {} \n",
    "      \"\"\".format(round(cohend,4),len(more_df),alpha,power))"
   ]
  },
  {
   "cell_type": "markdown",
   "metadata": {},
   "source": [
    "We are going to run two tailed sided welchs-t-test so we can see if the effect is positive or negative\n",
    "Negative t-value means higher the percentage share to people less income inequality and lower gini index"
   ]
  },
  {
   "cell_type": "code",
   "execution_count": 43,
   "metadata": {},
   "outputs": [
    {
     "name": "stdout",
     "output_type": "stream",
     "text": [
      "accept null hypothesis with t-value of -3.6422852388421982 and p-value of 0.00036488703355117637\n"
     ]
    }
   ],
   "source": [
    "results = stats.ttest_ind(more_df['Disposable_Income'], less_df['Disposable_Income'],equal_var = False)\n",
    "\n",
    "if (results[0] > 0) & (results[1]/2 < alpha):\n",
    "    print(\"reject null hypothesis, mean of {} is greater than mean of {}\".format('Male','Female'))\n",
    "else:\n",
    "    print(\"accept null hypothesis with t-value of {} and p-value of {}\".format(results[0],results[1]))"
   ]
  },
  {
   "cell_type": "markdown",
   "metadata": {},
   "source": [
    "### Notes on H1\n",
    "\n",
    "- P-value : 0.0003648\n",
    "- Statistical-Power : 0.05303\n",
    "\n",
    "We wanted to compare two different sample's and wanted to see the effect if it was negative or positive. So we ran <strong>Welch's T-test </strong> since the sample populations where not identical. T-test gave us the result that the p-value is lower in our two sample's however when we did power analysis our our power parameter was really low meaning the we should not believe our alternative hypothesis easily with out sample size. \n",
    "\n",
    "So we fail to reject null hypothesis and need more data to conduct and answer to this question."
   ]
  },
  {
   "cell_type": "markdown",
   "metadata": {},
   "source": [
    "### Hypothesis 2\n",
    "\n"
   ]
  },
  {
   "cell_type": "markdown",
   "metadata": {},
   "source": [
    "- H0 = Government spending on its citizens does not have any statistical significance effcect on Deaths from drug disorders?\n",
    "- HA = Govenrment spending on its citizens has a statistical significance effcect on Deaths from drug disorders?"
   ]
  },
  {
   "cell_type": "markdown",
   "metadata": {},
   "source": [
    "We have to check if our disposable income values are normally distributed so we run a QQ plot to see if it is normally distributed"
   ]
  },
  {
   "cell_type": "code",
   "execution_count": 7,
   "metadata": {},
   "outputs": [
    {
     "data": {
      "image/png": "[encoded data removed]",
      "text/plain": [
       "<Figure size 432x288 with 1 Axes>"
      ]
     },
     "metadata": {
      "needs_background": "light"
     },
     "output_type": "display_data"
    }
   ],
   "source": [
    "sns.distplot(drugs['Deaths']);"
   ]
  },
  {
   "cell_type": "markdown",
   "metadata": {},
   "source": [
    "it is not. but to be sure i split the data into my null and alteritive hypotionions and check againe."
   ]
  },
  {
   "cell_type": "code",
   "execution_count": 8,
   "metadata": {},
   "outputs": [],
   "source": [
    "AT = drugs[drugs['Over']==True]\n",
    "BT = drugs[drugs['Over']==False]"
   ]
  },
  {
   "cell_type": "code",
   "execution_count": 9,
   "metadata": {},
   "outputs": [
    {
     "data": {
      "image/png": "[encoded data removed]",
      "text/plain": [
       "<Figure size 432x288 with 1 Axes>"
      ]
     },
     "metadata": {
      "needs_background": "light"
     },
     "output_type": "display_data"
    }
   ],
   "source": [
    "sns.distplot(AT['Deaths']);"
   ]
  },
  {
   "cell_type": "code",
   "execution_count": 10,
   "metadata": {},
   "outputs": [
    {
     "data": {
      "image/png": "[encoded data removed]",
      "text/plain": [
       "<Figure size 432x288 with 1 Axes>"
      ]
     },
     "metadata": {
      "needs_background": "light"
     },
     "output_type": "display_data"
    }
   ],
   "source": [
    "sns.distplot(BT['Deaths']);"
   ]
  },
  {
   "cell_type": "markdown",
   "metadata": {},
   "source": [
    "it still not, therfor i will need to take sampling in order to get it into a normall diturbution.  "
   ]
  },
  {
   "cell_type": "code",
   "execution_count": 11,
   "metadata": {},
   "outputs": [],
   "source": [
    "sample_means_A = []\n",
    "for i in range(10**4):\n",
    "    sample = AT.sample(n=50) #Take a sample of 50 people\n",
    "    sample_means_A.append(sample.Deaths.mean()) #Calculate the sample mean"
   ]
  },
  {
   "cell_type": "code",
   "execution_count": 12,
   "metadata": {},
   "outputs": [],
   "source": [
    "sample_means_B = []\n",
    "for i in range(10**4):\n",
    "    sample = BT.sample(n=50) #Take a sample of 50 people\n",
    "    sample_means_B.append(sample.Deaths.mean()) #Calculate the sample mean"
   ]
  },
  {
   "cell_type": "code",
   "execution_count": 13,
   "metadata": {},
   "outputs": [
    {
     "data": {
      "text/plain": [
       "<matplotlib.axes._subplots.AxesSubplot at 0x1c49d608808>"
      ]
     },
     "execution_count": 13,
     "metadata": {},
     "output_type": "execute_result"
    },
    {
     "data": {
      "image/png": "[encoded data removed]",
      "text/plain": [
       "<Figure size 432x288 with 1 Axes>"
      ]
     },
     "metadata": {
      "needs_background": "light"
     },
     "output_type": "display_data"
    }
   ],
   "source": [
    "sns.distplot(sample_means_A)\n",
    "sns.distplot(sample_means_B)"
   ]
  },
  {
   "cell_type": "markdown",
   "metadata": {},
   "source": [
    "Clearly there is no saginificant "
   ]
  },
  {
   "cell_type": "markdown",
   "metadata": {},
   "source": [
    "# # Hypothesis 3"
   ]
  },
  {
   "cell_type": "markdown",
   "metadata": {},
   "source": [
    "3. Q3: Does increasing the amount of government spending on its citizens decreases the deaths due to alcohol? "
   ]
  },
  {
   "cell_type": "code",
   "execution_count": null,
   "metadata": {},
   "outputs": [],
   "source": []
  }
 ],
 "metadata": {
  "kernelspec": {
   "display_name": "learn-env",
   "language": "python",
   "name": "learn-env"
  },
  "language_info": {
   "codemirror_mode": {
    "name": "ipython",
    "version": 3
   },
   "file_extension": ".py",
   "mimetype": "text/x-python",
   "name": "python",
   "nbconvert_exporter": "python",
   "pygments_lexer": "ipython3",
   "version": "3.7.4"
  }
 },
 "nbformat": 4,
 "nbformat_minor": 2
}
