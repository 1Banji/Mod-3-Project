{
 "cells": [
  {
   "cell_type": "markdown",
   "metadata": {},
   "source": [
    "## Does increasing the amount of government spending on its citizens decreases the amount of the income inequality?\n",
    "\n",
    "INCREASING THE PERCENTAGE OF SHARING DECREASES INCOME INEQUALITY\n",
    "\n",
    "What does income inequality mean?\n",
    "\n",
    "#### Gini index\n",
    "Gini index is income distribution across population with a range from 0-1. A higher value means higher the inequality.\n",
    "\n",
    "#### IPF\n",
    "<strong>Inequality Possibility Frontier </strong> if the country has sufficient economical situation and that there can be a situation for its people to become inequal in its distribitoun.  \n",
    "\n",
    "\n",
    "- Market household income is defined as the sum of labor income (paid employment and self-employment income) and capital income.\n",
    "\n",
    "- Disposable household income is the sum of labor income (paid employment and self-employment income), capital income, transfer income—social security transfers (work-related insurance transfers, universal benefits, and assistance benefits) and private transfers—, minus income taxes and social security contributions.\n",
    "\n",
    "\n",
    "#### What does Goverment spending on its citizens mean?\n",
    "\n",
    " Public spending also shows that governments around the world often rely on the private sector to produce and manage goods and services. And public-private partnerships (PPP), in particular, have become an increasingly popular mechanism for governments to finance, design, build and operate infrastructure projects\n",
    "The steep growth of social spending in the second half of the 20th century was largely driven by the expansion of public funding for healthcare and education. \n",
    "\n",
    "\n",
    "#### Objectives\n",
    "Does increasing % of Countries Social Spending have a statistically significant effect on income inequality of the country? If so, at how effective it is?\n",
    "\n",
    "\n",
    "Which tests to run?\n",
    "\n",
    "- An Independent Samples t-test compares the means for two groups.\n",
    "- A Paired sample t-test compares means from the same group at different times (say, one year apart).\n",
    "- A One sample t-test tests the mean of a single group against a known mean.\n",
    "\n",
    "#### Hypothesis\n",
    "H0 = Government spending on its citizens does not have a effect on income equality?\n",
    "HA = Govenrment spending on its citizens decreases the income equality?\n",
    "\n",
    "\n",
    "How are we going to test and find significance\n",
    "\n",
    "is it T-test or \n",
    "\n",
    "\n",
    "### Create a class for countries that runs everthing"
   ]
  },
  {
   "cell_type": "code",
   "execution_count": 358,
   "metadata": {},
   "outputs": [],
   "source": [
    "import pandas as pd\n",
    "import numpy as np\n",
    "import matplotlib.pyplot as plt\n",
    "import seaborn as sns\n",
    "from scipy import stats\n",
    "from scipy.stats import shapiro\n",
    "\n",
    "%matplotlib inline"
   ]
  },
  {
   "cell_type": "markdown",
   "metadata": {},
   "source": [
    "## Data Cleaning\n"
   ]
  },
  {
   "cell_type": "code",
   "execution_count": 221,
   "metadata": {},
   "outputs": [
    {
     "name": "stdout",
     "output_type": "stream",
     "text": [
      "Shape of social spending dataset is (817, 4) and the shape of inequality dataset is (180, 5)\n",
      "Social spending dataset years are 1880-2016 and inequality dataset years are 1978-2013\n"
     ]
    },
    {
     "data": {
      "text/html": [
       "<div>\n",
       "<style scoped>\n",
       "    .dataframe tbody tr th:only-of-type {\n",
       "        vertical-align: middle;\n",
       "    }\n",
       "\n",
       "    .dataframe tbody tr th {\n",
       "        vertical-align: top;\n",
       "    }\n",
       "\n",
       "    .dataframe thead th {\n",
       "        text-align: right;\n",
       "    }\n",
       "</style>\n",
       "<table border=\"1\" class=\"dataframe\">\n",
       "  <thead>\n",
       "    <tr style=\"text-align: right;\">\n",
       "      <th></th>\n",
       "      <th>Entity</th>\n",
       "      <th>Code</th>\n",
       "      <th>Year</th>\n",
       "      <th>Social Expenditure %GDP - (OWID extrapolated series) (%)</th>\n",
       "    </tr>\n",
       "  </thead>\n",
       "  <tbody>\n",
       "    <tr>\n",
       "      <th>0</th>\n",
       "      <td>Australia</td>\n",
       "      <td>AUS</td>\n",
       "      <td>1880</td>\n",
       "      <td>0</td>\n",
       "    </tr>\n",
       "    <tr>\n",
       "      <th>1</th>\n",
       "      <td>Australia</td>\n",
       "      <td>AUS</td>\n",
       "      <td>1890</td>\n",
       "      <td>0</td>\n",
       "    </tr>\n",
       "    <tr>\n",
       "      <th>2</th>\n",
       "      <td>Australia</td>\n",
       "      <td>AUS</td>\n",
       "      <td>1900</td>\n",
       "      <td>0</td>\n",
       "    </tr>\n",
       "    <tr>\n",
       "      <th>3</th>\n",
       "      <td>Australia</td>\n",
       "      <td>AUS</td>\n",
       "      <td>1910</td>\n",
       "      <td>1.12</td>\n",
       "    </tr>\n",
       "    <tr>\n",
       "      <th>4</th>\n",
       "      <td>Australia</td>\n",
       "      <td>AUS</td>\n",
       "      <td>1920</td>\n",
       "      <td>1.66</td>\n",
       "    </tr>\n",
       "  </tbody>\n",
       "</table>\n",
       "</div>"
      ],
      "text/plain": [
       "      Entity Code  Year  \\\n",
       "0  Australia  AUS  1880   \n",
       "1  Australia  AUS  1890   \n",
       "2  Australia  AUS  1900   \n",
       "3  Australia  AUS  1910   \n",
       "4  Australia  AUS  1920   \n",
       "\n",
       "  Social Expenditure %GDP - (OWID extrapolated series) (%)  \n",
       "0                                                  0        \n",
       "1                                                  0        \n",
       "2                                                  0        \n",
       "3                                               1.12        \n",
       "4                                               1.66        "
      ]
     },
     "metadata": {},
     "output_type": "display_data"
    },
    {
     "data": {
      "text/html": [
       "<div>\n",
       "<style scoped>\n",
       "    .dataframe tbody tr th:only-of-type {\n",
       "        vertical-align: middle;\n",
       "    }\n",
       "\n",
       "    .dataframe tbody tr th {\n",
       "        vertical-align: top;\n",
       "    }\n",
       "\n",
       "    .dataframe thead th {\n",
       "        text-align: right;\n",
       "    }\n",
       "</style>\n",
       "<table border=\"1\" class=\"dataframe\">\n",
       "  <thead>\n",
       "    <tr style=\"text-align: right;\">\n",
       "      <th></th>\n",
       "      <th>Entity</th>\n",
       "      <th>Code</th>\n",
       "      <th>Year</th>\n",
       "      <th>Market Income</th>\n",
       "      <th>Disposable Income</th>\n",
       "    </tr>\n",
       "  </thead>\n",
       "  <tbody>\n",
       "    <tr>\n",
       "      <th>0</th>\n",
       "      <td>Australia</td>\n",
       "      <td>AUS</td>\n",
       "      <td>1981</td>\n",
       "      <td>0.405</td>\n",
       "      <td>0.282</td>\n",
       "    </tr>\n",
       "    <tr>\n",
       "      <th>1</th>\n",
       "      <td>Australia</td>\n",
       "      <td>AUS</td>\n",
       "      <td>1985</td>\n",
       "      <td>0.440</td>\n",
       "      <td>0.293</td>\n",
       "    </tr>\n",
       "    <tr>\n",
       "      <th>2</th>\n",
       "      <td>Australia</td>\n",
       "      <td>AUS</td>\n",
       "      <td>1989</td>\n",
       "      <td>0.440</td>\n",
       "      <td>0.304</td>\n",
       "    </tr>\n",
       "    <tr>\n",
       "      <th>3</th>\n",
       "      <td>Australia</td>\n",
       "      <td>AUS</td>\n",
       "      <td>1995</td>\n",
       "      <td>0.483</td>\n",
       "      <td>0.311</td>\n",
       "    </tr>\n",
       "    <tr>\n",
       "      <th>4</th>\n",
       "      <td>Australia</td>\n",
       "      <td>AUS</td>\n",
       "      <td>2001</td>\n",
       "      <td>0.498</td>\n",
       "      <td>0.320</td>\n",
       "    </tr>\n",
       "  </tbody>\n",
       "</table>\n",
       "</div>"
      ],
      "text/plain": [
       "      Entity Code  Year  Market Income  Disposable Income\n",
       "0  Australia  AUS  1981          0.405              0.282\n",
       "1  Australia  AUS  1985          0.440              0.293\n",
       "2  Australia  AUS  1989          0.440              0.304\n",
       "3  Australia  AUS  1995          0.483              0.311\n",
       "4  Australia  AUS  2001          0.498              0.320"
      ]
     },
     "metadata": {},
     "output_type": "display_data"
    }
   ],
   "source": [
    "gd = pd.read_csv('../dataset/social-spending-oecd-longrun.csv')\n",
    "ineq = pd.read_csv('../dataset/inequality-before-and-after-taxes-and-transfers-Thewissen-et-al-data.csv')\n",
    "\n",
    "print(\"Shape of social spending dataset is {} and the shape of inequality dataset is {}\".format(gd.shape,ineq.shape))\n",
    "print(\"Social spending dataset years are {}-{} and inequality dataset years are {}-{}\".format(gd.Year.min(),gd.Year.max(),ineq.Year.min(),ineq.Year.max()))\n",
    "\n",
    "display(gd.head())\n",
    "display(ineq.head())"
   ]
  },
  {
   "cell_type": "code",
   "execution_count": 224,
   "metadata": {},
   "outputs": [],
   "source": [
    "# take years after 1977 which is the years where inequality dataset starts\n",
    "gd = gd[gd.Year >1977]"
   ]
  },
  {
   "cell_type": "code",
   "execution_count": 302,
   "metadata": {},
   "outputs": [
    {
     "data": {
      "text/plain": [
       "(451, 5)"
      ]
     },
     "execution_count": 302,
     "metadata": {},
     "output_type": "execute_result"
    }
   ],
   "source": [
    "gd.shape"
   ]
  },
  {
   "cell_type": "code",
   "execution_count": 329,
   "metadata": {},
   "outputs": [],
   "source": [
    "def nearestYear(df1,df2):\n",
    "    # Match the year and the country with inequality dataset and than match the closest year with that countries yeardates\n",
    "    # Match a year once as well\n",
    "    # Get years of a given country in ineqality dataset\n",
    "    new = df1\n",
    "    countries = list(df1.Entity.unique())\n",
    "    \n",
    "    for country in countries:\n",
    "        \n",
    "        year_list = list(set(df2[df2.Entity == country].Year))\n",
    "        for index, row in df1[df1.Entity == country].iterrows():\n",
    "            # find the closest year\n",
    "            year = row['Year']\n",
    "            if len(year_list) > 0:\n",
    "                closest = min(year_list, key=lambda x:abs(x-year))\n",
    "                # Remove the matched year so it macthes only once\n",
    "                year_list.remove(closest)\n",
    "                new.loc[index,'RoundYear'] = closest\n",
    "            else:\n",
    "                new.loc[index,'RoundYear'] = None\n",
    "           \n",
    "    return new\n"
   ]
  },
  {
   "cell_type": "code",
   "execution_count": 330,
   "metadata": {},
   "outputs": [],
   "source": [
    "new = nearestYear(gd,ineq)"
   ]
  },
  {
   "cell_type": "code",
   "execution_count": 331,
   "metadata": {},
   "outputs": [
    {
     "data": {
      "text/html": [
       "<div>\n",
       "<style scoped>\n",
       "    .dataframe tbody tr th:only-of-type {\n",
       "        vertical-align: middle;\n",
       "    }\n",
       "\n",
       "    .dataframe tbody tr th {\n",
       "        vertical-align: top;\n",
       "    }\n",
       "\n",
       "    .dataframe thead th {\n",
       "        text-align: right;\n",
       "    }\n",
       "</style>\n",
       "<table border=\"1\" class=\"dataframe\">\n",
       "  <thead>\n",
       "    <tr style=\"text-align: right;\">\n",
       "      <th></th>\n",
       "      <th>Entity</th>\n",
       "      <th>Code</th>\n",
       "      <th>Year</th>\n",
       "      <th>Social Expenditure %GDP - (OWID extrapolated series) (%)</th>\n",
       "      <th>RoundYear</th>\n",
       "    </tr>\n",
       "  </thead>\n",
       "  <tbody>\n",
       "    <tr>\n",
       "      <th>24</th>\n",
       "      <td>Australia</td>\n",
       "      <td>AUS</td>\n",
       "      <td>1978.0</td>\n",
       "      <td>10.6378896</td>\n",
       "      <td>1981.0</td>\n",
       "    </tr>\n",
       "    <tr>\n",
       "      <th>25</th>\n",
       "      <td>Australia</td>\n",
       "      <td>AUS</td>\n",
       "      <td>1979.0</td>\n",
       "      <td>10.29641421</td>\n",
       "      <td>1985.0</td>\n",
       "    </tr>\n",
       "    <tr>\n",
       "      <th>26</th>\n",
       "      <td>Australia</td>\n",
       "      <td>AUS</td>\n",
       "      <td>1980.0</td>\n",
       "      <td>10.268</td>\n",
       "      <td>1989.0</td>\n",
       "    </tr>\n",
       "    <tr>\n",
       "      <th>27</th>\n",
       "      <td>Australia</td>\n",
       "      <td>AUS</td>\n",
       "      <td>1985.0</td>\n",
       "      <td>12.088</td>\n",
       "      <td>1995.0</td>\n",
       "    </tr>\n",
       "    <tr>\n",
       "      <th>28</th>\n",
       "      <td>Australia</td>\n",
       "      <td>AUS</td>\n",
       "      <td>1990.0</td>\n",
       "      <td>13.131</td>\n",
       "      <td>2001.0</td>\n",
       "    </tr>\n",
       "  </tbody>\n",
       "</table>\n",
       "</div>"
      ],
      "text/plain": [
       "       Entity Code    Year  \\\n",
       "24  Australia  AUS  1978.0   \n",
       "25  Australia  AUS  1979.0   \n",
       "26  Australia  AUS  1980.0   \n",
       "27  Australia  AUS  1985.0   \n",
       "28  Australia  AUS  1990.0   \n",
       "\n",
       "   Social Expenditure %GDP - (OWID extrapolated series) (%)  RoundYear  \n",
       "24                                         10.6378896           1981.0  \n",
       "25                                        10.29641421           1985.0  \n",
       "26                                             10.268           1989.0  \n",
       "27                                             12.088           1995.0  \n",
       "28                                             13.131           2001.0  "
      ]
     },
     "execution_count": 331,
     "metadata": {},
     "output_type": "execute_result"
    }
   ],
   "source": [
    "new.head()"
   ]
  },
  {
   "cell_type": "code",
   "execution_count": 332,
   "metadata": {},
   "outputs": [
    {
     "data": {
      "text/html": [
       "<div>\n",
       "<style scoped>\n",
       "    .dataframe tbody tr th:only-of-type {\n",
       "        vertical-align: middle;\n",
       "    }\n",
       "\n",
       "    .dataframe tbody tr th {\n",
       "        vertical-align: top;\n",
       "    }\n",
       "\n",
       "    .dataframe thead th {\n",
       "        text-align: right;\n",
       "    }\n",
       "</style>\n",
       "<table border=\"1\" class=\"dataframe\">\n",
       "  <thead>\n",
       "    <tr style=\"text-align: right;\">\n",
       "      <th></th>\n",
       "      <th>Entity</th>\n",
       "      <th>Code</th>\n",
       "      <th>Year</th>\n",
       "      <th>Market Income</th>\n",
       "      <th>Disposable Income</th>\n",
       "    </tr>\n",
       "  </thead>\n",
       "  <tbody>\n",
       "    <tr>\n",
       "      <th>0</th>\n",
       "      <td>Australia</td>\n",
       "      <td>AUS</td>\n",
       "      <td>1981</td>\n",
       "      <td>0.405</td>\n",
       "      <td>0.282</td>\n",
       "    </tr>\n",
       "    <tr>\n",
       "      <th>1</th>\n",
       "      <td>Australia</td>\n",
       "      <td>AUS</td>\n",
       "      <td>1985</td>\n",
       "      <td>0.440</td>\n",
       "      <td>0.293</td>\n",
       "    </tr>\n",
       "    <tr>\n",
       "      <th>2</th>\n",
       "      <td>Australia</td>\n",
       "      <td>AUS</td>\n",
       "      <td>1989</td>\n",
       "      <td>0.440</td>\n",
       "      <td>0.304</td>\n",
       "    </tr>\n",
       "    <tr>\n",
       "      <th>3</th>\n",
       "      <td>Australia</td>\n",
       "      <td>AUS</td>\n",
       "      <td>1995</td>\n",
       "      <td>0.483</td>\n",
       "      <td>0.311</td>\n",
       "    </tr>\n",
       "    <tr>\n",
       "      <th>4</th>\n",
       "      <td>Australia</td>\n",
       "      <td>AUS</td>\n",
       "      <td>2001</td>\n",
       "      <td>0.498</td>\n",
       "      <td>0.320</td>\n",
       "    </tr>\n",
       "  </tbody>\n",
       "</table>\n",
       "</div>"
      ],
      "text/plain": [
       "      Entity Code  Year  Market Income  Disposable Income\n",
       "0  Australia  AUS  1981          0.405              0.282\n",
       "1  Australia  AUS  1985          0.440              0.293\n",
       "2  Australia  AUS  1989          0.440              0.304\n",
       "3  Australia  AUS  1995          0.483              0.311\n",
       "4  Australia  AUS  2001          0.498              0.320"
      ]
     },
     "execution_count": 332,
     "metadata": {},
     "output_type": "execute_result"
    }
   ],
   "source": [
    "ineq.head()"
   ]
  },
  {
   "cell_type": "code",
   "execution_count": 333,
   "metadata": {},
   "outputs": [
    {
     "data": {
      "text/plain": [
       "Text(0.5, 1.0, 'Percent of GDP spend Q-Q Plot')"
      ]
     },
     "execution_count": 333,
     "metadata": {},
     "output_type": "execute_result"
    },
    {
     "data": {
      "image/png": "[encoded data removed]",
      "text/plain": [
       "<Figure size 432x288 with 1 Axes>"
      ]
     },
     "metadata": {
      "needs_background": "light"
     },
     "output_type": "display_data"
    }
   ],
   "source": [
    "# We plot a Q-Q plot to see if there is a normal distribution in Disposable Income\n",
    "stats.probplot(ineq['Disposable Income'], plot= plt)\n",
    "plt.title('Percent of GDP spend Q-Q Plot')"
   ]
  },
  {
   "cell_type": "code",
   "execution_count": 376,
   "metadata": {},
   "outputs": [
    {
     "name": "stdout",
     "output_type": "stream",
     "text": [
      "the average of percentage spend by countries is 19.21329161654386, the shape of the dataframe is (171, 6)\n",
      "The data starts from 1978 and ends in year 2013\n"
     ]
    },
    {
     "data": {
      "text/html": [
       "<div>\n",
       "<style scoped>\n",
       "    .dataframe tbody tr th:only-of-type {\n",
       "        vertical-align: middle;\n",
       "    }\n",
       "\n",
       "    .dataframe tbody tr th {\n",
       "        vertical-align: top;\n",
       "    }\n",
       "\n",
       "    .dataframe thead th {\n",
       "        text-align: right;\n",
       "    }\n",
       "</style>\n",
       "<table border=\"1\" class=\"dataframe\">\n",
       "  <thead>\n",
       "    <tr style=\"text-align: right;\">\n",
       "      <th></th>\n",
       "      <th>Entity</th>\n",
       "      <th>Year</th>\n",
       "      <th>Market Income</th>\n",
       "      <th>Disposable_Income</th>\n",
       "      <th>RoundYear</th>\n",
       "      <th>Percent_GDP</th>\n",
       "      <th>MoreThanMean</th>\n",
       "    </tr>\n",
       "  </thead>\n",
       "  <tbody>\n",
       "    <tr>\n",
       "      <th>0</th>\n",
       "      <td>Australia</td>\n",
       "      <td>1981</td>\n",
       "      <td>0.405</td>\n",
       "      <td>0.282</td>\n",
       "      <td>1981.0</td>\n",
       "      <td>10.637890</td>\n",
       "      <td>0</td>\n",
       "    </tr>\n",
       "    <tr>\n",
       "      <th>1</th>\n",
       "      <td>Australia</td>\n",
       "      <td>1985</td>\n",
       "      <td>0.440</td>\n",
       "      <td>0.293</td>\n",
       "      <td>1985.0</td>\n",
       "      <td>10.296414</td>\n",
       "      <td>0</td>\n",
       "    </tr>\n",
       "    <tr>\n",
       "      <th>2</th>\n",
       "      <td>Australia</td>\n",
       "      <td>1989</td>\n",
       "      <td>0.440</td>\n",
       "      <td>0.304</td>\n",
       "      <td>1989.0</td>\n",
       "      <td>10.268000</td>\n",
       "      <td>0</td>\n",
       "    </tr>\n",
       "    <tr>\n",
       "      <th>3</th>\n",
       "      <td>Australia</td>\n",
       "      <td>1995</td>\n",
       "      <td>0.483</td>\n",
       "      <td>0.311</td>\n",
       "      <td>1995.0</td>\n",
       "      <td>12.088000</td>\n",
       "      <td>0</td>\n",
       "    </tr>\n",
       "    <tr>\n",
       "      <th>4</th>\n",
       "      <td>Australia</td>\n",
       "      <td>2001</td>\n",
       "      <td>0.498</td>\n",
       "      <td>0.320</td>\n",
       "      <td>2001.0</td>\n",
       "      <td>13.131000</td>\n",
       "      <td>0</td>\n",
       "    </tr>\n",
       "  </tbody>\n",
       "</table>\n",
       "</div>"
      ],
      "text/plain": [
       "      Entity  Year  Market Income  Disposable_Income  RoundYear  Percent_GDP  \\\n",
       "0  Australia  1981          0.405              0.282     1981.0    10.637890   \n",
       "1  Australia  1985          0.440              0.293     1985.0    10.296414   \n",
       "2  Australia  1989          0.440              0.304     1989.0    10.268000   \n",
       "3  Australia  1995          0.483              0.311     1995.0    12.088000   \n",
       "4  Australia  2001          0.498              0.320     2001.0    13.131000   \n",
       "\n",
       "   MoreThanMean  \n",
       "0             0  \n",
       "1             0  \n",
       "2             0  \n",
       "3             0  \n",
       "4             0  "
      ]
     },
     "execution_count": 376,
     "metadata": {},
     "output_type": "execute_result"
    }
   ],
   "source": [
    "# Merge two dataframe on years it matches and country name\n",
    "new.dropna(inplace=True)\n",
    "df = pd.merge(ineq[['Entity','Year','Market Income','Disposable Income']], \n",
    "              new[['Entity','RoundYear','Social Expenditure %GDP - (OWID extrapolated series) (%)']],  \n",
    "              how='inner', left_on=['Entity','Year'], right_on = ['Entity','RoundYear'])\n",
    "# Rename Social Expediture percentage column\n",
    "df.rename(columns={'Social Expenditure %GDP - (OWID extrapolated series) (%)': 'Percent_GDP','Disposable Income':'Disposable_Income'},inplace=True)\n",
    "# Delete row with  string '..' Convert object type to float\n",
    "df = df[df.Percent_GDP != '..']\n",
    "df.Percent_GDP = df.Percent_GDP.astype(float)\n",
    "df = df[df.Percent_GDP != 0]\n",
    "df.dropna(inplace = True)\n",
    "mean = df.Percent_GDP.mean()\n",
    "print('the average of percentage spend by countries is {}, the shape of the dataframe is {}'.format(mean,df.shape))\n",
    "# Countries who spend more of their shares than 21 percent\n",
    "df['MoreThanMean'] = df.Percent_GDP.apply(lambda x: 0 if x < mean else 1)\n",
    "# Gini index indicates if it is higher than there is higher inequality\n",
    "print('The data starts from {} and ends in year {}'.format(df.Year.min(),df.Year.max()))\n",
    "df.head()"
   ]
  },
  {
   "cell_type": "code",
   "execution_count": 386,
   "metadata": {},
   "outputs": [],
   "source": [
    "df.to_csv('../dataset/gdp_ineq.csv',index=False)"
   ]
  },
  {
   "cell_type": "code",
   "execution_count": 377,
   "metadata": {},
   "outputs": [],
   "source": [
    "more_df = df[df.MoreThanMean == 1]\n",
    "less_df = df[df.MoreThanMean == 0]"
   ]
  },
  {
   "cell_type": "code",
   "execution_count": 378,
   "metadata": {},
   "outputs": [
    {
     "name": "stdout",
     "output_type": "stream",
     "text": [
      "Statistics=3.943, p=0.139\n",
      "Sample looks Gaussian (fail to reject H0)\n"
     ]
    }
   ],
   "source": [
    "stat, p = stats.normaltest(less_df['Disposable_Income'])\n",
    "print('Statistics=%.3f, p=%.3f' % (stat, p))\n",
    "# interpret\n",
    "alpha = 0.05\n",
    "if p > alpha:\n",
    "    print('Sample looks Gaussian (fail to reject H0)')\n",
    "else:\n",
    "    print('Sample does not look Gaussian (reject H0)')"
   ]
  },
  {
   "cell_type": "code",
   "execution_count": 379,
   "metadata": {},
   "outputs": [
    {
     "name": "stderr",
     "output_type": "stream",
     "text": [
      "/Users/kaanbursa/opt/anaconda3/envs/learn-env/lib/python3.6/site-packages/scipy/stats/stats.py:1713: FutureWarning: Using a non-tuple sequence for multidimensional indexing is deprecated; use `arr[tuple(seq)]` instead of `arr[seq]`. In the future this will be interpreted as an array index, `arr[np.array(seq)]`, which will result either in an error or a different result.\n",
      "  return np.add.reduce(sorted[indexer] * weights, axis=axis) / sumval\n"
     ]
    },
    {
     "data": {
      "text/plain": [
       "<matplotlib.legend.Legend at 0x1a200880f0>"
      ]
     },
     "execution_count": 379,
     "metadata": {},
     "output_type": "execute_result"
    },
    {
     "data": {
      "image/png": "[encoded data removed]",
      "text/plain": [
       "<Figure size 864x576 with 1 Axes>"
      ]
     },
     "metadata": {
      "needs_background": "light"
     },
     "output_type": "display_data"
    }
   ],
   "source": [
    "plt.figure(figsize=(12,8))\n",
    "sns.distplot(more_df['Disposable_Income'],label='Countries who spend more than %20 of their GDP ')\n",
    "sns.distplot(less_df['Disposable_Income'],label='Countries who spend less than %20 of their GDP')\n",
    "plt.legend()"
   ]
  },
  {
   "cell_type": "code",
   "execution_count": 380,
   "metadata": {},
   "outputs": [
    {
     "data": {
      "text/plain": [
       "((array([-2.39472592, -2.04999764, -1.84970871, -1.70418555, -1.58777462,\n",
       "         -1.48960474, -1.40399923, -1.32760098, -1.25825142, -1.19447624,\n",
       "         -1.13522129, -1.07970516, -1.02733153, -0.97763423, -0.93024133,\n",
       "         -0.88485094, -0.84121426, -0.79912351, -0.75840314, -0.7189032 ,\n",
       "         -0.68049443, -0.64306437, -0.60651441, -0.57075741, -0.5357158 ,\n",
       "         -0.5013201 , -0.46750761, -0.43422146, -0.40140969, -0.36902459,\n",
       "         -0.33702204, -0.30536107, -0.27400335, -0.24291282, -0.2120554 ,\n",
       "         -0.18139862, -0.15091143, -0.1205639 , -0.09032702, -0.06017252,\n",
       "         -0.03007265,  0.        ,  0.03007265,  0.06017252,  0.09032702,\n",
       "          0.1205639 ,  0.15091143,  0.18139862,  0.2120554 ,  0.24291282,\n",
       "          0.27400335,  0.30536107,  0.33702204,  0.36902459,  0.40140969,\n",
       "          0.43422146,  0.46750761,  0.5013201 ,  0.5357158 ,  0.57075741,\n",
       "          0.60651441,  0.64306437,  0.68049443,  0.7189032 ,  0.75840314,\n",
       "          0.79912351,  0.84121426,  0.88485094,  0.93024133,  0.97763423,\n",
       "          1.02733153,  1.07970516,  1.13522129,  1.19447624,  1.25825142,\n",
       "          1.32760098,  1.40399923,  1.48960474,  1.58777462,  1.70418555,\n",
       "          1.84970871,  2.04999764,  2.39472592]),\n",
       "  array([0.189, 0.206, 0.207, 0.209, 0.217, 0.226, 0.229, 0.233, 0.235,\n",
       "         0.235, 0.239, 0.243, 0.246, 0.248, 0.255, 0.257, 0.257, 0.262,\n",
       "         0.262, 0.265, 0.267, 0.267, 0.269, 0.28 , 0.282, 0.282, 0.283,\n",
       "         0.285, 0.286, 0.292, 0.293, 0.296, 0.303, 0.304, 0.304, 0.304,\n",
       "         0.305, 0.305, 0.31 , 0.31 , 0.311, 0.311, 0.313, 0.314, 0.316,\n",
       "         0.316, 0.318, 0.318, 0.318, 0.32 , 0.32 , 0.321, 0.322, 0.325,\n",
       "         0.326, 0.329, 0.334, 0.334, 0.335, 0.336, 0.337, 0.338, 0.339,\n",
       "         0.34 , 0.342, 0.344, 0.345, 0.346, 0.347, 0.35 , 0.35 , 0.353,\n",
       "         0.354, 0.355, 0.369, 0.372, 0.372, 0.374, 0.377, 0.377, 0.383,\n",
       "         0.383, 0.387])),\n",
       " (0.048307466917671384, 0.30383132530120477, 0.9878381245061651))"
      ]
     },
     "execution_count": 380,
     "metadata": {},
     "output_type": "execute_result"
    },
    {
     "data": {
      "image/png": "[encoded data removed]",
      "text/plain": [
       "<Figure size 432x288 with 1 Axes>"
      ]
     },
     "metadata": {
      "needs_background": "light"
     },
     "output_type": "display_data"
    }
   ],
   "source": [
    "# We want to check if data is normally distributed with QQ plot\n",
    "#plt.figure(figsize=(14,10))\n",
    "#plt.subplots(121)\n",
    "stats.probplot(more_df['Disposable_Income'], plot= plt)\n",
    "stats.probplot(less_df['Disposable_Income'], plot= plt)\n",
    "#plt.title('Percent of GDP spend Q-Q Plot')\n",
    "#plt.subplots(122)\n",
    "#plt.hist(more_df['Disposable Income'])\n",
    "#plt.savefig('blood pressure difference qq plot.png')"
   ]
  },
  {
   "cell_type": "code",
   "execution_count": 338,
   "metadata": {},
   "outputs": [],
   "source": [
    "# create a function that takes data and fills the years between"
   ]
  },
  {
   "cell_type": "markdown",
   "metadata": {},
   "source": [
    "### Assumptions for T-test\n",
    "\n",
    "1. The first assumption made regarding t-tests concerns the scale of measurement. The assumption for a t-test is that the scale of measurement applied to the data collected follows a continuous or ordinal scale, such as the scores for an IQ test.\n",
    "2. The second assumption made is that of a simple random sample, that the data is collected from a representative, randomly selected portion of the total population.\n",
    "3. The third assumption is the data, when plotted, results in a normal distribution, bell-shaped distribution curve. When a normal distribution is assumed, one can specify a level of probability (alpha level, level of significance, p) as a criterion for acceptance. In most cases, a 5% value can be assumed.\n",
    "4. The fourth assumption is a reasonably large sample size is used. A larger sample size means the distribution of results should approach a normal bell-shaped curve.\n",
    "5. The final assumption is homogeneity of variance. Homogeneous, or equal, variance exists when the standard deviations of samples are approximately equal."
   ]
  },
  {
   "cell_type": "code",
   "execution_count": 343,
   "metadata": {},
   "outputs": [],
   "source": [
    "# Import stats model for power analysis\n",
    "from statsmodels.stats.power import TTestIndPower"
   ]
  },
  {
   "cell_type": "code",
   "execution_count": 381,
   "metadata": {},
   "outputs": [
    {
     "name": "stdout",
     "output_type": "stream",
     "text": [
      "Cohens distance for the populations is 0.0247 which is the effect size. Sample size is 88\n",
      "and our significane level is (alpha) 0.05 and our statistical power is 0.8 \n",
      "      \n"
     ]
    }
   ],
   "source": [
    "# Cohens d test for measuring effect size in t-test\n",
    "alpha = 0.05\n",
    "statspower = 0.8\n",
    "cohend = abs(more_df['Disposable_Income'].mean() - less_df['Disposable_Income'].mean())\n",
    "print(\"\"\"Cohens distance for the populations is {} which is the effect size. Sample size is {}\n",
    "and our significane level is (alpha) {} and our statistical power is {} \n",
    "      \"\"\".format(round(cohend,4),len(more_df),alpha,statspower))"
   ]
  },
  {
   "cell_type": "code",
   "execution_count": 367,
   "metadata": {},
   "outputs": [],
   "source": [
    "analysis = TTestIndPower()\n",
    "power = analysis.solve_power(cohend, power=None, nobs1=len(more_df), ratio=1.0, alpha=alpha)"
   ]
  },
  {
   "cell_type": "code",
   "execution_count": 368,
   "metadata": {},
   "outputs": [
    {
     "name": "stdout",
     "output_type": "stream",
     "text": [
      "Power is: 0.053\n"
     ]
    }
   ],
   "source": [
    "print('Power is: %.3f' % power)"
   ]
  },
  {
   "cell_type": "code",
   "execution_count": 382,
   "metadata": {},
   "outputs": [],
   "source": [
    "# Run two tailed sided welchs-t-test so we can see if the effect is positive or negative\n",
    "results = stats.ttest_ind(more_df['Disposable_Income'], less_df['Disposable_Income'],equal_var = False)"
   ]
  },
  {
   "cell_type": "code",
   "execution_count": 370,
   "metadata": {},
   "outputs": [
    {
     "name": "stdout",
     "output_type": "stream",
     "text": [
      "accept null hypothesis with t-value of -3.6422852388421982 and p-value of 0.00036488703355117637\n"
     ]
    }
   ],
   "source": [
    "# Negative t-value means higher the percentage share to people less income inequality and lower gini index\n",
    "alpha = 0.05\n",
    "if (results[0] > 0) & (results[1]/2 < alpha):\n",
    "    print(\"reject null hypothesis, mean of {} is greater than mean of {}\".format('Male','Female'))\n",
    "else:\n",
    "    print(\"accept null hypothesis with t-value of {} and p-value of {}\".format(results[0],results[1]))"
   ]
  },
  {
   "cell_type": "markdown",
   "metadata": {},
   "source": [
    "WE can say that t-value of apprx -4 is that "
   ]
  },
  {
   "cell_type": "code",
   "execution_count": 383,
   "metadata": {},
   "outputs": [
    {
     "data": {
      "text/plain": [
       "F_onewayResult(statistic=13.411733268251668, pvalue=0.00033420308938501885)"
      ]
     },
     "execution_count": 383,
     "metadata": {},
     "output_type": "execute_result"
    }
   ],
   "source": [
    "stats.f_oneway(more_df['Disposable_Income'], less_df['Disposable_Income'])"
   ]
  },
  {
   "cell_type": "markdown",
   "metadata": {},
   "source": [
    "Even though our p-value is low for this test we cannot reject the null hypothesis because of our really small power value"
   ]
  },
  {
   "cell_type": "code",
   "execution_count": 372,
   "metadata": {},
   "outputs": [],
   "source": [
    "import statsmodels.api as sm\n",
    "from statsmodels.formula.api import ols"
   ]
  },
  {
   "cell_type": "code",
   "execution_count": 384,
   "metadata": {},
   "outputs": [
    {
     "data": {
      "text/html": [
       "<table class=\"simpletable\">\n",
       "<caption>OLS Regression Results</caption>\n",
       "<tr>\n",
       "  <th>Dep. Variable:</th>    <td>Disposable_Income</td> <th>  R-squared:         </th> <td>   0.076</td>\n",
       "</tr>\n",
       "<tr>\n",
       "  <th>Model:</th>                   <td>OLS</td>        <th>  Adj. R-squared:    </th> <td>   0.071</td>\n",
       "</tr>\n",
       "<tr>\n",
       "  <th>Method:</th>             <td>Least Squares</td>   <th>  F-statistic:       </th> <td>   13.90</td>\n",
       "</tr>\n",
       "<tr>\n",
       "  <th>Date:</th>             <td>Thu, 02 Jan 2020</td>  <th>  Prob (F-statistic):</th> <td>0.000263</td>\n",
       "</tr>\n",
       "<tr>\n",
       "  <th>Time:</th>                 <td>14:37:49</td>      <th>  Log-Likelihood:    </th> <td>  292.69</td>\n",
       "</tr>\n",
       "<tr>\n",
       "  <th>No. Observations:</th>      <td>   171</td>       <th>  AIC:               </th> <td>  -581.4</td>\n",
       "</tr>\n",
       "<tr>\n",
       "  <th>Df Residuals:</th>          <td>   169</td>       <th>  BIC:               </th> <td>  -575.1</td>\n",
       "</tr>\n",
       "<tr>\n",
       "  <th>Df Model:</th>              <td>     1</td>       <th>                     </th>     <td> </td>   \n",
       "</tr>\n",
       "<tr>\n",
       "  <th>Covariance Type:</th>      <td>nonrobust</td>     <th>                     </th>     <td> </td>   \n",
       "</tr>\n",
       "</table>\n",
       "<table class=\"simpletable\">\n",
       "<tr>\n",
       "       <td></td>          <th>coef</th>     <th>std err</th>      <th>t</th>      <th>P>|t|</th>  <th>[0.025</th>    <th>0.975]</th>  \n",
       "</tr>\n",
       "<tr>\n",
       "  <th>Intercept</th>   <td>    0.3448</td> <td>    0.015</td> <td>   23.323</td> <td> 0.000</td> <td>    0.316</td> <td>    0.374</td>\n",
       "</tr>\n",
       "<tr>\n",
       "  <th>Percent_GDP</th> <td>   -0.0028</td> <td>    0.001</td> <td>   -3.728</td> <td> 0.000</td> <td>   -0.004</td> <td>   -0.001</td>\n",
       "</tr>\n",
       "</table>\n",
       "<table class=\"simpletable\">\n",
       "<tr>\n",
       "  <th>Omnibus:</th>       <td> 5.036</td> <th>  Durbin-Watson:     </th> <td>   0.633</td>\n",
       "</tr>\n",
       "<tr>\n",
       "  <th>Prob(Omnibus):</th> <td> 0.081</td> <th>  Jarque-Bera (JB):  </th> <td>   2.832</td>\n",
       "</tr>\n",
       "<tr>\n",
       "  <th>Skew:</th>          <td>-0.029</td> <th>  Prob(JB):          </th> <td>   0.243</td>\n",
       "</tr>\n",
       "<tr>\n",
       "  <th>Kurtosis:</th>      <td> 2.372</td> <th>  Cond. No.          </th> <td>    87.0</td>\n",
       "</tr>\n",
       "</table><br/><br/>Warnings:<br/>[1] Standard Errors assume that the covariance matrix of the errors is correctly specified."
      ],
      "text/plain": [
       "<class 'statsmodels.iolib.summary.Summary'>\n",
       "\"\"\"\n",
       "                            OLS Regression Results                            \n",
       "==============================================================================\n",
       "Dep. Variable:      Disposable_Income   R-squared:                       0.076\n",
       "Model:                            OLS   Adj. R-squared:                  0.071\n",
       "Method:                 Least Squares   F-statistic:                     13.90\n",
       "Date:                Thu, 02 Jan 2020   Prob (F-statistic):           0.000263\n",
       "Time:                        14:37:49   Log-Likelihood:                 292.69\n",
       "No. Observations:                 171   AIC:                            -581.4\n",
       "Df Residuals:                     169   BIC:                            -575.1\n",
       "Df Model:                           1                                         \n",
       "Covariance Type:            nonrobust                                         \n",
       "===============================================================================\n",
       "                  coef    std err          t      P>|t|      [0.025      0.975]\n",
       "-------------------------------------------------------------------------------\n",
       "Intercept       0.3448      0.015     23.323      0.000       0.316       0.374\n",
       "Percent_GDP    -0.0028      0.001     -3.728      0.000      -0.004      -0.001\n",
       "==============================================================================\n",
       "Omnibus:                        5.036   Durbin-Watson:                   0.633\n",
       "Prob(Omnibus):                  0.081   Jarque-Bera (JB):                2.832\n",
       "Skew:                          -0.029   Prob(JB):                        0.243\n",
       "Kurtosis:                       2.372   Cond. No.                         87.0\n",
       "==============================================================================\n",
       "\n",
       "Warnings:\n",
       "[1] Standard Errors assume that the covariance matrix of the errors is correctly specified.\n",
       "\"\"\""
      ]
     },
     "execution_count": 384,
     "metadata": {},
     "output_type": "execute_result"
    }
   ],
   "source": [
    "results = ols('Disposable_Income ~ Percent_GDP', data=df).fit()\n",
    "results.summary()"
   ]
  },
  {
   "cell_type": "code",
   "execution_count": 385,
   "metadata": {},
   "outputs": [
    {
     "data": {
      "text/html": [
       "<div>\n",
       "<style scoped>\n",
       "    .dataframe tbody tr th:only-of-type {\n",
       "        vertical-align: middle;\n",
       "    }\n",
       "\n",
       "    .dataframe tbody tr th {\n",
       "        vertical-align: top;\n",
       "    }\n",
       "\n",
       "    .dataframe thead th {\n",
       "        text-align: right;\n",
       "    }\n",
       "</style>\n",
       "<table border=\"1\" class=\"dataframe\">\n",
       "  <thead>\n",
       "    <tr style=\"text-align: right;\">\n",
       "      <th></th>\n",
       "      <th>sum_sq</th>\n",
       "      <th>df</th>\n",
       "      <th>F</th>\n",
       "      <th>PR(&gt;F)</th>\n",
       "    </tr>\n",
       "  </thead>\n",
       "  <tbody>\n",
       "    <tr>\n",
       "      <th>Percent_GDP</th>\n",
       "      <td>0.026842</td>\n",
       "      <td>1.0</td>\n",
       "      <td>13.895043</td>\n",
       "      <td>0.000263</td>\n",
       "    </tr>\n",
       "    <tr>\n",
       "      <th>Residual</th>\n",
       "      <td>0.326463</td>\n",
       "      <td>169.0</td>\n",
       "      <td>NaN</td>\n",
       "      <td>NaN</td>\n",
       "    </tr>\n",
       "  </tbody>\n",
       "</table>\n",
       "</div>"
      ],
      "text/plain": [
       "               sum_sq     df          F    PR(>F)\n",
       "Percent_GDP  0.026842    1.0  13.895043  0.000263\n",
       "Residual     0.326463  169.0        NaN       NaN"
      ]
     },
     "execution_count": 385,
     "metadata": {},
     "output_type": "execute_result"
    }
   ],
   "source": [
    "aov_table = sm.stats.anova_lm(results, typ=2)\n",
    "aov_table"
   ]
  },
  {
   "cell_type": "code",
   "execution_count": null,
   "metadata": {},
   "outputs": [],
   "source": []
  }
 ],
 "metadata": {
  "kernelspec": {
   "display_name": "Python [conda env:learn-env] *",
   "language": "python",
   "name": "conda-env-learn-env-py"
  },
  "language_info": {
   "codemirror_mode": {
    "name": "ipython",
    "version": 3
   },
   "file_extension": ".py",
   "mimetype": "text/x-python",
   "name": "python",
   "nbconvert_exporter": "python",
   "pygments_lexer": "ipython3",
   "version": "3.6.6"
  }
 },
 "nbformat": 4,
 "nbformat_minor": 2
}
